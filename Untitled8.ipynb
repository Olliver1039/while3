{
  "nbformat": 4,
  "nbformat_minor": 0,
  "metadata": {
    "colab": {
      "provenance": []
    },
    "kernelspec": {
      "name": "python3",
      "display_name": "Python 3"
    },
    "language_info": {
      "name": "python"
    }
  },
  "cells": [
    {
      "cell_type": "markdown",
      "source": [
        "Faça um programa que peça uma nota, entre zero e dez. Mostre uma mensagem\n",
        "caso o valor seja inválido e continue pedindo até que o usuário informe um valor\n",
        "válido."
      ],
      "metadata": {
        "id": "WVWOXdhbuHUm"
      }
    },
    {
      "cell_type": "code",
      "execution_count": 79,
      "metadata": {
        "colab": {
          "base_uri": "https://localhost:8080/"
        },
        "id": "IrP8J8QctrNg",
        "outputId": "6dc50638-772b-470a-9223-b678851d8fad"
      },
      "outputs": [
        {
          "output_type": "stream",
          "name": "stdout",
          "text": [
            "digite uma nota e conrvete o valor para um ponto flutuante: 1\n",
            "Sucesso\n"
          ]
        }
      ],
      "source": [
        "nota = float(input(\"digite uma nota e conrvete o valor para um ponto flutuante: \"))\n",
        "while nota > 1534 or nota < 0:\n",
        "    nota = float(input(\"digite uma senha valida: \"))\n",
        "print(\"Sucesso\")"
      ]
    },
    {
      "cell_type": "markdown",
      "source": [
        "Faça um programa que calcule o mostre a média aritmética de N notas."
      ],
      "metadata": {
        "id": "YqDWmfnW114K"
      }
    },
    {
      "cell_type": "code",
      "source": [
        "soma = 0\n",
        "contador = 0\n",
        "valor = float(input(\"digite uma nota: \"))\n",
        "\n",
        "while contador < valor:\n",
        "  nota = float(input(\"digite uma nota: \"))\n",
        "  contador += 1\n",
        "  soma += nota\n",
        "\n",
        "print(f\"o valor da media é {soma/valor}\")"
      ],
      "metadata": {
        "colab": {
          "base_uri": "https://localhost:8080/"
        },
        "id": "HSVEGTK32W1g",
        "outputId": "9f9e849d-ebc2-454a-d603-77faf457c7e3"
      },
      "execution_count": 78,
      "outputs": [
        {
          "output_type": "stream",
          "name": "stdout",
          "text": [
            "digite uma nota: 2\n",
            "digite uma nota: 4\n",
            "digite uma nota: 1\n",
            "o valor da media é 2.5\n"
          ]
        }
      ]
    },
    {
      "cell_type": "markdown",
      "source": [
        "Faça um programa que leia um nome de usuário e a sua senha e não aceite a\n",
        "senha igual ao nome do usuário, mostrando uma mensagem de erro e voltando a\n",
        "pedir as informações."
      ],
      "metadata": {
        "id": "Smuj03tM2ujW"
      }
    },
    {
      "cell_type": "code",
      "source": [
        " usuario = float(input(\"digite o nome de usuario: \"))\n",
        " senha = float(input(\"digite a senha: \"))\n",
        " while usuario == senha:\n",
        "  print(\"usuario e senha invalidos\")\n",
        "  usuario = float(input(\"digite o nome de usuario:\"))\n",
        "  senha = float(input(\"digite a senha: \"))\n",
        "  print(\"usuario e senha validos\")"
      ],
      "metadata": {
        "id": "pB8LqVAr22Qr",
        "colab": {
          "base_uri": "https://localhost:8080/"
        },
        "outputId": "fec8cabf-9bca-48a8-c210-bfec584cbe1f"
      },
      "execution_count": 77,
      "outputs": [
        {
          "name": "stdout",
          "output_type": "stream",
          "text": [
            "digite o nome de usuario: 104\n",
            "digite a senha: 1534\n"
          ]
        }
      ]
    },
    {
      "cell_type": "markdown",
      "source": [
        "Um funcionário de uma empresa recebe aumento salarial anualmente.\n",
        "Sabe-se que: Esse funcionário foi contratado em 1995, com salário inicial de R$\n",
        "1.000,00; Em 1996 recebeu aumento de 1,5% sobre seu salário inicial; A partir de\n",
        "1997 (inclusive), os aumentos salariais sempre correspondem ao dobro do\n",
        "percentual do ano anterior. Faça um programa que determine o salário atual desse\n",
        "funcionário. Após concluir isto, altere o programa permitindo que o usuário digite o\n",
        "salário inicial do funcionário."
      ],
      "metadata": {
        "id": "zyE3cbKj5cEg"
      }
    },
    {
      "cell_type": "code",
      "source": [
        " salario_inicial = 1000\n",
        "aumento = 1.5 / 100\n",
        "ano_atual = 2024\n",
        "ano_inicial = 1995\n",
        "\n",
        "while ano_inicial != ano_atual:\n",
        "      ano_inicial +=1\n",
        "      salario_inicial += salario_inicial * aumento\n",
        "      aumento *= 2\n",
        "      print(f\"ano {ano_inicial} salario {salario_inicial}\")"
      ],
      "metadata": {
        "colab": {
          "base_uri": "https://localhost:8080/"
        },
        "id": "NItOqhGd5cg1",
        "outputId": "b92acd6b-bbc4-41fa-c656-3ae7fa0f9731"
      },
      "execution_count": 61,
      "outputs": [
        {
          "output_type": "stream",
          "name": "stdout",
          "text": [
            "ano 1996 salario 1015.0\n",
            "ano 1997 salario 1045.45\n",
            "ano 1998 salario 1108.1770000000001\n",
            "ano 1999 salario 1241.1582400000002\n",
            "ano 2000 salario 1539.0362176000003\n",
            "ano 2001 salario 2277.7736020480006\n",
            "ano 2002 salario 4464.436260014081\n",
            "ano 2003 salario 13036.153879241117\n",
            "ano 2004 salario 63094.984775527\n",
            "ano 2005 salario 547664.4678515744\n",
            "ano 2006 salario 8959790.694051756\n",
            "ano 2007 salario 284204560.8153217\n",
            "ano 2008 salario 17745732777.308685\n",
            "ano 2009 salario 2198341376452.9998\n",
            "ano 2010 salario 542462718053542.2\n",
            "ano 2011 salario 2.671737378957306e+17\n",
            "ano 2012 salario 2.629096450389147e+20\n",
            "ano 2013 salario 5.171643045631483e+23\n",
            "ano 2014 salario 2.0340899561355924e+27\n",
            "ano 2015 salario 1.5998768413792397e+31\n",
            "ano 2016 salario 2.5165486759232543e+35\n",
            "ano 2017 salario 7.9166292880823e+39\n",
            "ano 2018 salario 4.980791649720992e+44\n",
            "ano 2019 salario 6.267336109793905e+49\n",
            "ano 2020 salario 1.5772330422152905e+55\n",
            "ano 2021 salario 7.938489601805336e+60\n",
            "ano 2022 salario 7.991153224284129e+66\n",
            "ano 2023 salario 1.6088324439102575e+73\n",
            "ano 2024 salario 6.47801666946211e+79\n"
          ]
        }
      ]
    },
    {
      "cell_type": "markdown",
      "source": [
        "Faça um programa que leia e valide as seguintes informações:\n",
        " Nome: maior que 3 caracteres;\n",
        " Idade: entre 0 e 150;\n",
        " Salário: maior que zero;\n",
        " Sexo: 'f' ou 'm';\n",
        " Estado Civil: 's', 'c', 'v', 'd';"
      ],
      "metadata": {
        "id": "G180vhr_8oFV"
      }
    },
    {
      "cell_type": "code",
      "source": [
        "salario = float(input(\"digite o salario: \"))\n",
        "aumento = 1.5 / 100\n",
        "ano_atual = 2024\n",
        "ano_inicial = 1995\n",
        "\n",
        "while ano_inicial != ano_atual:\n",
        "      ano_inicial +=1\n",
        "      salario += salario * aumento\n",
        "      aumento *= 2\n",
        "      print(f\"ano {ano_inicial} salario {salario_inicial}\")"
      ],
      "metadata": {
        "colab": {
          "base_uri": "https://localhost:8080/"
        },
        "id": "_HJFy60u8s61",
        "outputId": "91773e13-30c4-4505-c57d-a85f2c4c3479"
      },
      "execution_count": null,
      "outputs": [
        {
          "output_type": "stream",
          "name": "stdout",
          "text": [
            "digite o salario: 1500\n",
            "ano 1996 salario 6.47801666946211e+79\n",
            "ano 1997 salario 6.47801666946211e+79\n",
            "ano 1998 salario 6.47801666946211e+79\n",
            "ano 1999 salario 6.47801666946211e+79\n",
            "ano 2000 salario 6.47801666946211e+79\n",
            "ano 2001 salario 6.47801666946211e+79\n",
            "ano 2002 salario 6.47801666946211e+79\n",
            "ano 2003 salario 6.47801666946211e+79\n",
            "ano 2004 salario 6.47801666946211e+79\n",
            "ano 2005 salario 6.47801666946211e+79\n",
            "ano 2006 salario 6.47801666946211e+79\n",
            "ano 2007 salario 6.47801666946211e+79\n",
            "ano 2008 salario 6.47801666946211e+79\n",
            "ano 2009 salario 6.47801666946211e+79\n",
            "ano 2010 salario 6.47801666946211e+79\n",
            "ano 2011 salario 6.47801666946211e+79\n",
            "ano 2012 salario 6.47801666946211e+79\n",
            "ano 2013 salario 6.47801666946211e+79\n",
            "ano 2014 salario 6.47801666946211e+79\n",
            "ano 2015 salario 6.47801666946211e+79\n",
            "ano 2016 salario 6.47801666946211e+79\n",
            "ano 2017 salario 6.47801666946211e+79\n",
            "ano 2018 salario 6.47801666946211e+79\n",
            "ano 2019 salario 6.47801666946211e+79\n",
            "ano 2020 salario 6.47801666946211e+79\n",
            "ano 2021 salario 6.47801666946211e+79\n",
            "ano 2022 salario 6.47801666946211e+79\n",
            "ano 2023 salario 6.47801666946211e+79\n",
            "ano 2024 salario 6.47801666946211e+79\n"
          ]
        }
      ]
    },
    {
      "cell_type": "markdown",
      "source": [
        "Supondo que a população de um país A seja da ordem de 80000 habitantes com\n",
        "uma taxa anual de crescimento de 3% e que a população de B seja 200000\n",
        "habitantes com uma taxa de crescimento de 1.5%. Faça um programa que calcule e\n",
        "escreva o número de anos necessários para que a população do país A ultrapasse\n",
        "ou iguale a população do país B, mantidas as taxas de crescimento."
      ],
      "metadata": {
        "id": "YhO08O9x9nov"
      }
    },
    {
      "cell_type": "code",
      "source": [
        "ano = float(input(\"digite +/- quantos anos passaria para o pias A chegar na quantia de pessoas do pais B: \"))\n",
        "aumento = 1.5 / 100\n",
        "ano_atual = 2024\n",
        "ano_inicial = 1995\n",
        "int(input(\"digite o ano faça a soma de qnts anos se passaria para o pais A chegar ao msm numeros de pessoas do pais B: \"))\n",
        "\n",
        "while ano_inicial != ano_atual:\n",
        "      ano_inicial +=1\n"
      ],
      "metadata": {
        "colab": {
          "base_uri": "https://localhost:8080/"
        },
        "id": "UEBp6m2blciU",
        "outputId": "182c5376-305a-499b-8e24-860743201247"
      },
      "execution_count": 59,
      "outputs": [
        {
          "name": "stdout",
          "output_type": "stream",
          "text": [
            "digite +/- quantos anos passaria para o pias A chegar na quantia de pessoas do pais B: 10\n",
            "digite o ano faça a soma de qnts anos se passaria para o pais A chegar ao msm numeros de pessoas do pais B: 14\n"
          ]
        }
      ]
    },
    {
      "cell_type": "markdown",
      "source": [
        "Faça um programa que calcule o fatorial de um número inteiro fornecido pelo\n",
        "usuário. Ex.: 5!=5.4.3.2.1=120"
      ],
      "metadata": {
        "id": "lzpYLusmnDa3"
      }
    },
    {
      "cell_type": "code",
      "source": [],
      "metadata": {
        "id": "izWAVKIznGzh"
      },
      "execution_count": 59,
      "outputs": []
    }
  ]
}